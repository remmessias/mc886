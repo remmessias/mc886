{
 "cells": [
  {
   "cell_type": "markdown",
   "metadata": {},
   "source": [
    "# Projeto 3 - Treinando Pacman com Modelo Evolucionário e Aprendizado por Reforço"
   ]
  },
  {
   "cell_type": "markdown",
   "metadata": {},
   "source": [
    "Aluno: André Soranzzo Mota RA: 166404\n",
    "\n",
    "Aluna: Rebecca Moreira Messias RA: 186416\n",
    "\n",
    "*Participação*: O trabalho foi feito em Pair Programming"
   ]
  },
  {
   "cell_type": "markdown",
   "metadata": {},
   "source": [
    "## Objetivos\n",
    "\n",
    "O objetivo desse trabalho é fazer com o Pacman aprenda a ganhar partidas de seu jogo. Para realizar tal feito, iremos abordar duas metodologias. Na primeira metodologia será abordado o conceito de Modelo Evolucionário utilizando Algoritmo Genético e a segunda metodologia é implementada com base no Aprendizado por Reforço. "
   ]
  },
  {
   "cell_type": "markdown",
   "metadata": {},
   "source": [
    "## Evolucionary Model"
   ]
  },
  {
   "cell_type": "markdown",
   "metadata": {},
   "source": [
    "### Introdução\n",
    "Para essa parte do projeto escolhemos o Algoritmo Genético. Os parâmetors que realizamos variação são taxa de crossover, taxa de mutação, critério de parada e tamanho da população.\n",
    "\n",
    "### Função de avaliação\n",
    "A função de avaliação do individuo fazemos uma combinação da pontuação máxima com bonificação caso o Pacman vença os mapas.\n",
    "\n",
    "### Função de crossover\n",
    "Para realizar o crossover utilizamos a técnica de ponto único.\n",
    "\n",
    "### Seleção dos indivíduos\n",
    "A seleção dos indivíduos para mutação e crossover é feita aleatoriamente. Dessa forma,  garantimos que não tenha valores negativos na nossa função de avaliação aplicando uma máscara com o valor mínimo do vetor.\n",
    "\n",
    "### Pacman\n",
    "Foi criado um agente chamado \"GeneticAgent\" em \"pacmanAgents.py\", que decide o caminho que vai seguir de acordo com a lista de moviemntos passada por parâmetro. Se não for possível realizar tal movimento, o Pacaman segue em frente e se essa opção também não for possível o Pacman retorna o caminho. Um individuo é composto de uma série de genes que podem ter o valor 'L' ou 'R' (direções que o Pacaman poderá seguir, onde L é esquerda e R é direita). A quantidade de genes que um indivíduo tem é determinada por um parâmetro quando chamamamos a função de criação da população. As gerações evoluem até atingir a quantidade máxima de geração definida ou a diferença percentual entre uma média de população e sua anterior menor que 1%."
   ]
  },
  {
   "cell_type": "markdown",
   "metadata": {},
   "source": [
    "### Implementação"
   ]
  },
  {
   "cell_type": "code",
   "execution_count": 1,
   "metadata": {},
   "outputs": [],
   "source": [
    "import random\n",
    "import numpy as np\n",
    "import pandas as pd\n",
    "import matplotlib.pyplot as plt\n",
    "from statistics import mean"
   ]
  },
  {
   "cell_type": "code",
   "execution_count": 2,
   "metadata": {},
   "outputs": [],
   "source": [
    "random.seed(10)\n",
    "mapas = ['smallClassic', 'mediumClassic', 'originalClassic']"
   ]
  },
  {
   "cell_type": "markdown",
   "metadata": {},
   "source": [
    "A função abaixo irá iniciar nossa população com tamanho de acordo com o que for informado na variável `tamanhoPopulacao` passado por parâmetro. Essa função irá retornar a população criada."
   ]
  },
  {
   "cell_type": "code",
   "execution_count": 3,
   "metadata": {},
   "outputs": [],
   "source": [
    "def inicializa_populacao(tamanhoPopulacao, minimoCaracteres, maximoCaracteres):\n",
    "    populacao = []\n",
    "    for i in range(tamanhoPopulacao):\n",
    "        len  = random.randint(minimoCaracteres, maximoCaracteres)\n",
    "        individuo = \"\"\n",
    "        for c in range(len):\n",
    "            caracteres = random.randint(1, 100)\n",
    "            if caracteres >= 50:\n",
    "                individuo = individuo + 'L'\n",
    "            else:\n",
    "                individuo = individuo + 'R'\n",
    "        populacao.append(individuo)\n",
    "    populacao = np.array(populacao)\n",
    "    return populacao"
   ]
  },
  {
   "cell_type": "markdown",
   "metadata": {},
   "source": [
    "A função abaixo realiza o crossover de dois indivíduos. Ela pega um ponto dos pais e cria novos dois a partir da intercalação dos genes dos pais. O retorno da função é dois indivíduos filhos."
   ]
  },
  {
   "cell_type": "code",
   "execution_count": 4,
   "metadata": {},
   "outputs": [],
   "source": [
    "def crossover(individuo1, individuo2):\n",
    "    individuo1 = list(individuo1)\n",
    "    individuo2 = list(individuo2)\n",
    "\n",
    "    tamanhoIndividuo1 = len(individuo1)\n",
    "    tamanhoIndividuo2 = len(individuo2)\n",
    "    tamanho = 0\n",
    "    tamanho = min(tamanhoIndividuo1, tamanhoIndividuo2)\n",
    "    k = random.randint(0, tamanho - 1)\n",
    "  \n",
    "    for i in range(0, k):\n",
    "        individuo1[i], individuo2[i] = individuo2[i], individuo1[i]\n",
    "    \n",
    "    individuo1 = ''.join(individuo1)\n",
    "    individuo2 = ''.join(individuo2)\n",
    "    \n",
    "    return individuo1, individuo2"
   ]
  },
  {
   "cell_type": "markdown",
   "metadata": {},
   "source": [
    "A função abaixo realiza a mutação em um indivíduo. Ela altera 1 gene do indivíduo. O retorno dessa função é o indivíduo mutante."
   ]
  },
  {
   "cell_type": "code",
   "execution_count": 5,
   "metadata": {},
   "outputs": [],
   "source": [
    "def mutacao(individuo):\n",
    "    individuo = list(individuo)\n",
    "    \n",
    "    gene = random.randint(0, len(individuo) - 1)\n",
    "    \n",
    "    if individuo[gene] == 'L':\n",
    "        individuo[gene] = 'R'\n",
    "    else:\n",
    "        individuo[gene] = 'L'\n",
    "    \n",
    "    individuo = ''.join(individuo)\n",
    "    return individuo"
   ]
  },
  {
   "cell_type": "markdown",
   "metadata": {},
   "source": [
    "A função abaixo seleciona um ou dois indivíduos da população de acordo com suas avaliações. A função retorna os indivíduos escolhidos."
   ]
  },
  {
   "cell_type": "code",
   "execution_count": 6,
   "metadata": {},
   "outputs": [],
   "source": [
    "def selecao(individuos, avaliacoes):\n",
    "    individuo = []\n",
    "\n",
    "    valorMinimo = np.min(avaliacoes)\n",
    "   \n",
    "    if valorMinimo < 0:\n",
    "        avaliacoes = avaliacoes - valorMinimo\n",
    "\n",
    "    avaliacoes = np.sqrt(avaliacoes + 1)\n",
    "\n",
    "    valorMaximo = np.sum(avaliacoes)\n",
    "    \n",
    "    for n in range(individuos):\n",
    "        escolhido = random.uniform(0, valorMaximo)\n",
    "        atual = 0\n",
    "    \n",
    "        for i in range(len(avaliacoes)):\n",
    "            atual += avaliacoes[i]\n",
    "            \n",
    "            if atual > escolhido:\n",
    "                individuo.append(i)\n",
    "                break\n",
    "    \n",
    "    return individuo"
   ]
  },
  {
   "cell_type": "markdown",
   "metadata": {},
   "source": [
    "A função abaixo cria uma nova geração. Ela recebe a população pai e cria os novos filhos. O retorno dessa função é a nova população."
   ]
  },
  {
   "cell_type": "code",
   "execution_count": 7,
   "metadata": {
    "tags": []
   },
   "outputs": [],
   "source": [
    "def criaNovaGeracao(populacao, taxaEstabilidade, taxaMutacao, taxaCrossover, avaliacoes):\n",
    "    novaPopulacao = []\n",
    "    avaliacoesAux = avaliacoes.copy()\n",
    "    populacaoAux = populacao.copy()\n",
    "\n",
    "    for i in range(int(taxaEstabilidade * len(populacao))):\n",
    "        if populacao[np.argmax(avaliacoes)] not in novaPopulacao:\n",
    "            novaPopulacao.append(populacao[np.argmax(avaliacoes)])\n",
    "        else:\n",
    "            i = i - 1 \n",
    "        \n",
    "        avaliacoes = np.delete(avaliacoes, np.argmax(avaliacoes))\n",
    "        populacao = np.delete(populacao, np.argmax(avaliacoes))\n",
    "        \n",
    "    \n",
    "    populacao = populacaoAux\n",
    "    avaliacoes = avaliacoesAux\n",
    "\n",
    "    for i in range(int(taxaCrossover * len(populacao) / 2)):\n",
    "        individuo = selecao(2, avaliacoes)\n",
    "        a, b = crossover(populacao[individuo[0]], populacao[individuo[1]])\n",
    "        novaPopulacao.append(a)\n",
    "        novaPopulacao.append(b)\n",
    "    \n",
    "    for i in range(int(taxaMutacao * len(populacao))):\n",
    "        individuo = selecao(1, avaliacoes)\n",
    "        novaPopulacao.append(mutacao(populacao[individuo[0]]))\n",
    "    \n",
    "    novaPopulacao = np.array(novaPopulacao)\n",
    "    \n",
    "    return novaPopulacao"
   ]
  },
  {
   "cell_type": "markdown",
   "metadata": {},
   "source": [
    "A função abaixo faz a avaliação da população. É onde inicializamos a partida e faz com que cada indivíduo da população jogue em cada mapa. Essa função retorna as métricas das partidas jogadas pelos indivíduos."
   ]
  },
  {
   "cell_type": "code",
   "execution_count": 8,
   "metadata": {},
   "outputs": [],
   "source": [
    "def jogaPacman(populacao, mapas):\n",
    "    mediaPopulacoes= []\n",
    "    vitoriaPopulacoes = []\n",
    "\n",
    "    for i in populacao:\n",
    "        pontuacoes = []\n",
    "        vitorias = []\n",
    "        \n",
    "        for mapa in mapas:\n",
    "            resultado = !python pacman.py -p GeneticAgent -a steps=$i -l $mapa -q -f\n",
    "            vencedor = int(resultado[3].split(':')[1].split('/')[0].replace(\" \", \"\"))\n",
    "            vitorias.append(vencedor)\n",
    "            pontuacao = float(resultado[1].split(':')[1].replace(\" \", \"\"))\n",
    "            pontuacoes.append(pontuacao)\n",
    "\n",
    "        mediaIndividual = np.mean(pontuacoes)\n",
    "        mediaPopulacoes = mediaPopulacoes + [mediaIndividual]\n",
    "        vitoriasGeral = np.sum(vitorias)\n",
    "        vitoriaPopulacoes.append(vitoriasGeral)\n",
    "        \n",
    "    mediaPopulacoes = np.array(mediaPopulacoes)\n",
    "    vitoriaPopulacoes = np.array(vitoriaPopulacoes)\n",
    "    \n",
    "    return mediaPopulacoes, vitoriaPopulacoes"
   ]
  },
  {
   "cell_type": "markdown",
   "metadata": {},
   "source": [
    "A função abaixo verifica se ainda o modelo deve continuar treinando pelas médias."
   ]
  },
  {
   "cell_type": "code",
   "execution_count": 9,
   "metadata": {},
   "outputs": [],
   "source": [
    "def verificaCriterioParadaPelaMedia(geracaoAtual, geracaoAnterior):\n",
    "    diferenca = geracaoAtual - geracaoAnterior\n",
    "    razao = diferenca/geracaoAtual\n",
    "    \n",
    "    if razao < 0:\n",
    "        razao = razao * -1\n",
    "    \n",
    "    if razao < 0.005:\n",
    "        return True\n",
    "    \n",
    "    return False"
   ]
  },
  {
   "cell_type": "markdown",
   "metadata": {},
   "source": [
    "A função abaixo verifica se ainda o modelo deve continuar treinando pelas vitórias."
   ]
  },
  {
   "cell_type": "code",
   "execution_count": 10,
   "metadata": {},
   "outputs": [],
   "source": [
    "def verificaCriterioParadaPelaVitoria(geracaoAtual, geracaoAnterior):\n",
    "    status = False\n",
    "    \n",
    "    if geracaoAtual >= geracaoAnterior:\n",
    "        status = True\n",
    "    \n",
    "    return status"
   ]
  },
  {
   "cell_type": "markdown",
   "metadata": {},
   "source": [
    "A função abaixo é a função de treinamento do nosso modelo."
   ]
  },
  {
   "cell_type": "code",
   "execution_count": 11,
   "metadata": {},
   "outputs": [],
   "source": [
    "def treinamento(populacao, mapas, maximoGeracoes, taxaEstabilidade, taxaMutacao, taxaCrossover):\n",
    "    metricas = []\n",
    "    metricas.append([\"Geração\", \"Média da Geração\", \"Taxa de vitória\", \"Valor máximo\", \"Valor mínimo\"])\n",
    "    tabelaMetricas = pd.DataFrame()\n",
    "    \n",
    "    geracoes = []\n",
    "    geracoes.append(populacao)\n",
    "\n",
    "    mediaGeracao = []\n",
    "    maximoValoresGeracao = []\n",
    "    individuoMaximoGeracao = []\n",
    "    minimoValoresGeracao = []\n",
    "    taxaVitoriaGeracao = []\n",
    "\n",
    "    parada = False\n",
    "\n",
    "    \n",
    "    for g in range(maximoGeracoes):\n",
    "        medias, vitorias = jogaPacman(geracoes[g], mapas)\n",
    "\n",
    "        maximoValoresGeracao.append(np.amax(medias))\n",
    "        max_ind_idx = np.where(medias == maximoValoresGeracao[g])\n",
    "        individuoMaximoGeracao.append(geracoes[g][max_ind_idx[0]])\n",
    "        minimoValoresGeracao.append(np.amin(medias))\n",
    "        mediaGeracao.append(np.mean(medias))\n",
    "        totalVitorias = np.sum(vitorias)\n",
    "        totalJogos = (len(mapas)*populacao.shape[0])\n",
    "        taxaVitoriaGeracao.append(totalVitorias/totalJogos)\n",
    "        \n",
    "        np.append(metricas, [g, mediaGeracao[g], taxaVitoriaGeracao[g], maximoValoresGeracao[g], minimoValoresGeracao[g]])\n",
    "        metricas = np.array(metricas)\n",
    "        \n",
    "        tabelaMetricas = pd.DataFrame(metricas)\n",
    "        \n",
    "        if g > 0:\n",
    "            parada = verificaCriterioParadaPelaMedia(mediaGeracao[g], mediaGeracao[g-1]) and verificaCriterioParadaPelaVitoria(taxaVitoriaGeracao[g], taxaVitoriaGeracao[g-1])\n",
    "        \n",
    "        if parada:\n",
    "            break\n",
    "\n",
    "        proximaGeracao = criaNovaGeracao(geracoes[g], taxaEstabilidade, taxaMutacao, taxaCrossover, medias)\n",
    "        geracoes.append(proximaGeracao)\n",
    "    \n",
    "    tabelaMetricas.head()\n",
    "    \n",
    "    return geracoes, mediaGeracao, maximoValoresGeracao, minimoValoresGeracao, taxaVitoriaGeracao, individuoMaximoGeracao"
   ]
  },
  {
   "cell_type": "code",
   "execution_count": 12,
   "metadata": {},
   "outputs": [],
   "source": [
    "tamanhoPopulacao = 50\n",
    "maximoGeracao = 500\n",
    "taxaEstabilidade = 0.2\n",
    "taxaMutacao = 0.2\n",
    "taxaCrossover = 0.7\n",
    "minimoCaracteres = 3\n",
    "maximoCaracteres = 40\n",
    "populacao1 = inicializa_populacao(tamanhoPopulacao, minimoCaracteres, maximoCaracteres)"
   ]
  },
  {
   "cell_type": "code",
   "execution_count": 13,
   "metadata": {},
   "outputs": [],
   "source": [
    "geracoes, mediaGeracoes, valoresMaximoGeracoes, valoresMinimoGeracoes, taxaVitoriaGeracao, individuoMaximoGeracao = treinamento(populacao1, mapas, maximoGeracao, taxaEstabilidade, taxaMutacao, taxaCrossover)"
   ]
  },
  {
   "cell_type": "code",
   "execution_count": 20,
   "metadata": {},
   "outputs": [],
   "source": [
    "tamanhoPopulacao = 25\n",
    "maximoGeracao = 500\n",
    "taxaEstabilidade = 0.05\n",
    "taxaMutacao = 0.15\n",
    "taxaCrossover = 0.8\n",
    "minimoCaracteres = 10\n",
    "maximoCaracteres = 35\n",
    "populacao2 = inicializa_populacao(tamanhoPopulacao, minimoCaracteres, maximoCaracteres)"
   ]
  },
  {
   "cell_type": "code",
   "execution_count": 21,
   "metadata": {
    "tags": []
   },
   "outputs": [],
   "source": [
    "geracoes2, mediaGeracoes2, valoresMaximoGeracoes2, valoresMinimoGeracoes2, taxaVitoriaGeracao2, individuoMaximoGeracao2 = treinamento(populacao2, mapas, maximoGeracao, taxaEstabilidade, taxaMutacao, taxaCrossover)"
   ]
  },
  {
   "cell_type": "markdown",
   "metadata": {},
   "source": [
    "### Gráficos dos treinos obtidos acima"
   ]
  },
  {
   "cell_type": "code",
   "execution_count": 34,
   "metadata": {},
   "outputs": [
    {
     "data": {
      "image/png": "[encoded data removed]",
      "text/plain": [
       "<Figure size 432x288 with 1 Axes>"
      ]
     },
     "metadata": {
      "needs_background": "light"
     },
     "output_type": "display_data"
    }
   ],
   "source": [
    "plt.title('Primeiro Treino')\n",
    "\n",
    "plt.plot(mediaGeracoes, label = \"Média\")\n",
    "plt.plot(valoresMaximoGeracoes, label = \"Máximo\")\n",
    "plt.plot(valoresMinimoGeracoes, label = \"Mínimo\")\n",
    "\n",
    "plt.xlabel('Gerações')\n",
    "plt.ylabel('Valores')\n",
    "\n",
    "plt.show()"
   ]
  },
  {
   "cell_type": "code",
   "execution_count": 35,
   "metadata": {},
   "outputs": [
    {
     "data": {
      "text/plain": [
       "'RLRLRRLRLLRLLRRRLRRLLLRLRL'"
      ]
     },
     "execution_count": 35,
     "metadata": {},
     "output_type": "execute_result"
    }
   ],
   "source": [
    "individuoMaximoGeracao[46][0]"
   ]
  },
  {
   "cell_type": "code",
   "execution_count": 36,
   "metadata": {},
   "outputs": [
    {
     "data": {
      "image/png": "[encoded data removed]",
      "text/plain": [
       "<Figure size 432x288 with 1 Axes>"
      ]
     },
     "metadata": {
      "needs_background": "light"
     },
     "output_type": "display_data"
    }
   ],
   "source": [
    "plt.title('Segundo Treino')\n",
    "\n",
    "plt.plot(mediaGeracoes2, label = \"Média\")\n",
    "plt.plot(valoresMaximoGeracoes2, label = \"Máximo\")\n",
    "plt.plot(valoresMinimoGeracoes2, label = \"Mínimo\")\n",
    "\n",
    "plt.xlabel('Gerações')\n",
    "plt.ylabel('Valores')\n",
    "\n",
    "plt.show()"
   ]
  },
  {
   "cell_type": "code",
   "execution_count": 37,
   "metadata": {
    "scrolled": true
   },
   "outputs": [
    {
     "data": {
      "text/plain": [
       "'RLRLLRLRRLLRRLRRLRRLLRRLLLLLL'"
      ]
     },
     "execution_count": 37,
     "metadata": {},
     "output_type": "execute_result"
    }
   ],
   "source": [
    "individuoMaximoGeracao2[17][0]"
   ]
  },
  {
   "cell_type": "code",
   "execution_count": 38,
   "metadata": {},
   "outputs": [
    {
     "data": {
      "text/plain": [
       "array(['RLRLRRLRLLRLLRRRLRRLLLRLRL', 'RLRLRRLRLLRLLRRRLRRLLLRLRL',\n",
       "       'RLRLRRLRLLRLLRRRLRRLLLRLRL', 'RLRLRRLRLLRLLRRRLRRLLLRLRL'],\n",
       "      dtype='<U26')"
      ]
     },
     "execution_count": 38,
     "metadata": {},
     "output_type": "execute_result"
    }
   ],
   "source": [
    "individuoMaximoGeracao[46]"
   ]
  },
  {
   "cell_type": "markdown",
   "metadata": {},
   "source": [
    "### Conclusões do genetic algorithm desenvolvido\n",
    "Foi dificultoso criar um indivíduo genérico para os 3 mapas, pois cada mapa possui caminhos e características específicas. Por conta disso, muitas vezes o pacman seguia caminhos que não recompensavam bem por não considerar a melhor pontuação para decidir seu próximo caminho. Além disso, um agente que iria muito bem em um mapa, poderia ficar em um loop em outro mapa tomando os mesmos conjuntos de ações, desse modo ele apenas esperava sua morte por um fantasma em um dos mapas, mesmo indo extremamente bem em outro. No desenvolvimento de nosso pacman também não consideramos a posição dos fantasmase e por conta disso nosso pacman não fugia deles. Com isso, alguns indivíduos seguiam de encontro com fantasmas, mesmo não tendo consumido o poder, o que pode nos dar baixa probabilidade de sobrevivência.\n",
    "Nos nossos primeiros testes havia um grande número de repetições de indivíduos em uma população. Nesses testes até conseguimos um bom resultado, mas isso não significou uma boa população. Nossos testes acabaram levando para um máximo local, em que um indivíduo ganhava ou adquiria muitos pontos em um mapa, mas não tinha sucesso nos outros."
   ]
  }
 ],
 "metadata": {
  "interpreter": {
   "hash": "9a94ca9f525866a261db2c565a54f0cd18a53db00fa674a50fa4c97d80740809"
  },
  "kernelspec": {
   "display_name": "Python 3",
   "language": "python",
   "name": "python3"
  },
  "language_info": {
   "codemirror_mode": {
    "name": "ipython",
    "version": 3
   },
   "file_extension": ".py",
   "mimetype": "text/x-python",
   "name": "python",
   "nbconvert_exporter": "python",
   "pygments_lexer": "ipython3",
   "version": "3.8.5"
  }
 },
 "nbformat": 4,
 "nbformat_minor": 2
}
