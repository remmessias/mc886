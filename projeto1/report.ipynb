{
 "cells": [
  {
   "cell_type": "markdown",
   "id": "ranging-glenn",
   "metadata": {},
   "source": [
    "# K-means implementation"
   ]
  },
  {
   "cell_type": "code",
   "execution_count": 1,
   "id": "russian-archives",
   "metadata": {},
   "outputs": [
    {
     "name": "stdout",
     "output_type": "stream",
     "text": [
      "Collecting matplotlib\n",
      "  Downloading matplotlib-3.4.1-cp37-cp37m-manylinux1_x86_64.whl (10.3 MB)\n",
      "\u001b[K     |████████████████████████████████| 10.3 MB 6.5 MB/s eta 0:00:01\n",
      "\u001b[?25hRequirement already satisfied: pyparsing>=2.2.1 in /srv/conda/envs/notebook/lib/python3.7/site-packages (from matplotlib) (2.4.7)\n",
      "Requirement already satisfied: python-dateutil>=2.7 in /srv/conda/envs/notebook/lib/python3.7/site-packages (from matplotlib) (2.8.1)\n",
      "Collecting pillow>=6.2.0\n",
      "  Downloading Pillow-8.2.0-cp37-cp37m-manylinux1_x86_64.whl (3.0 MB)\n",
      "\u001b[K     |████████████████████████████████| 3.0 MB 35.6 MB/s eta 0:00:01\n",
      "\u001b[?25hCollecting numpy>=1.16\n",
      "  Downloading numpy-1.20.2-cp37-cp37m-manylinux2010_x86_64.whl (15.3 MB)\n",
      "\u001b[K     |████████████████████████████████| 15.3 MB 80.5 MB/s eta 0:00:01\n",
      "\u001b[?25hCollecting cycler>=0.10\n",
      "  Downloading cycler-0.10.0-py2.py3-none-any.whl (6.5 kB)\n",
      "Collecting kiwisolver>=1.0.1\n",
      "  Downloading kiwisolver-1.3.1-cp37-cp37m-manylinux1_x86_64.whl (1.1 MB)\n",
      "\u001b[K     |████████████████████████████████| 1.1 MB 64.7 MB/s eta 0:00:01\n",
      "\u001b[?25hRequirement already satisfied: six in /srv/conda/envs/notebook/lib/python3.7/site-packages (from cycler>=0.10->matplotlib) (1.15.0)\n",
      "Installing collected packages: pillow, numpy, kiwisolver, cycler, matplotlib\n",
      "Successfully installed cycler-0.10.0 kiwisolver-1.3.1 matplotlib-3.4.1 numpy-1.20.2 pillow-8.2.0\n",
      "Requirement already satisfied: numpy in /srv/conda/envs/notebook/lib/python3.7/site-packages (1.20.2)\n",
      "Collecting pandas\n",
      "  Downloading pandas-1.2.3-cp37-cp37m-manylinux1_x86_64.whl (9.9 MB)\n",
      "\u001b[K     |████████████████████████████████| 9.9 MB 6.8 MB/s eta 0:00:01\n",
      "\u001b[?25hRequirement already satisfied: numpy>=1.16.5 in /srv/conda/envs/notebook/lib/python3.7/site-packages (from pandas) (1.20.2)\n",
      "Requirement already satisfied: python-dateutil>=2.7.3 in /srv/conda/envs/notebook/lib/python3.7/site-packages (from pandas) (2.8.1)\n",
      "Requirement already satisfied: pytz>=2017.3 in /srv/conda/envs/notebook/lib/python3.7/site-packages (from pandas) (2021.1)\n",
      "Requirement already satisfied: six>=1.5 in /srv/conda/envs/notebook/lib/python3.7/site-packages (from python-dateutil>=2.7.3->pandas) (1.15.0)\n",
      "Installing collected packages: pandas\n",
      "Successfully installed pandas-1.2.3\n",
      "Collecting scipy\n",
      "  Downloading scipy-1.6.2-cp37-cp37m-manylinux1_x86_64.whl (27.4 MB)\n",
      "\u001b[K     |████████████████████████████████| 27.4 MB 19.7 MB/s eta 0:00:01\n",
      "\u001b[?25hRequirement already satisfied: numpy<1.23.0,>=1.16.5 in /srv/conda/envs/notebook/lib/python3.7/site-packages (from scipy) (1.20.2)\n",
      "Installing collected packages: scipy\n",
      "Successfully installed scipy-1.6.2\n"
     ]
    }
   ],
   "source": [
    "!pip install matplotlib\n",
    "!pip install numpy\n",
    "!pip install pandas\n",
    "!pip install scipy"
   ]
  },
  {
   "cell_type": "code",
   "execution_count": 2,
   "id": "legal-burlington",
   "metadata": {},
   "outputs": [
    {
     "data": {
      "image/png": "[encoded data removed]",
      "text/plain": [
       "<Figure size 432x288 with 1 Axes>"
      ]
     },
     "metadata": {
      "needs_background": "light"
     },
     "output_type": "display_data"
    }
   ],
   "source": [
    "import numpy as np\n",
    "import matplotlib.pyplot as plt\n",
    "import pandas as pd\n",
    "from scipy.spatial import distance\n",
    "\n",
    "dataset = pd.read_table(\"cluster.dat\", sep=\" \", header=None)\n",
    "X = dataset.iloc[:, 0:1].values\n",
    "Y = dataset.iloc[:, 1:2].values\n",
    "\n",
    "plt.scatter(X, Y, label = \"Point (X;Y)\", color = 'k')\n",
    "plt.xlabel('X')\n",
    "plt.ylabel('Y')\n",
    "plt.title(\"Points dataset for finding centroid coordinates\")\n",
    "plt.show()"
   ]
  },
  {
   "cell_type": "code",
   "execution_count": null,
   "id": "complex-forum",
   "metadata": {},
   "outputs": [],
   "source": [
    "def inicializaCentroides(k, data):\n",
    "    centroides = []\n",
    "    for i in range(0,k):\n",
    "        centroides.append(data.loc[[i]])\n",
    "    return centroides\n",
    "\n",
    "def calculaDistancia(ponto1, ponto2):\n",
    "    #print('ponto1')\n",
    "    #print(ponto1.to_numpy())\n",
    "    ponto1 = ponto1.to_numpy()\n",
    "    ponto2 = ponto2.to_numpy()[0]\n",
    "    # distancia euclidiana\n",
    "    return distance.euclidean(ponto1, ponto2)\n",
    "\n",
    "def encontraCentroideMaisProximo(ponto, centroides, k):\n",
    "    isFirst = True\n",
    "    centroide = 0\n",
    "    menorDistancia = -1\n",
    "    for i in range(0,len(centroides)):\n",
    "        # calcula distancia pra cada centroide\n",
    "        dist = calculaDistancia(ponto, centroides[i])\n",
    "        if (isFirst):\n",
    "            menorDistancia = dist\n",
    "            isFirst = False\n",
    "        elif (dist < menorDistancia):\n",
    "            menorDistancia = dist\n",
    "            centroide = i\n",
    "    return centroide\n",
    "\n",
    "def populaClusters(centroides, data, k):\n",
    "    clusters = []\n",
    "    for i in range(0,k):\n",
    "        clusters.append([])\n",
    "    for index, i in data.iterrows():\n",
    "        \n",
    "        centroide = encontraCentroideMaisProximo(i, centroides, k)\n",
    "        # Passo 3: Coloca cada ponto nas classes que está mais próximo\n",
    "        clusters[centroide].append(i.to_numpy())\n",
    "    return clusters\n",
    "\n",
    "def recalculaCentroides(k, centroides, clusters):\n",
    "    for i in range(0,k):\n",
    "        mediax=0\n",
    "        mediay=0\n",
    "        print('antes: ', centroides[i])\n",
    "        tam_cluster=len(clusters[i])\n",
    "        for j in range(0, tam_cluster):\n",
    "            mediax+=clusters[i][j][0]\n",
    "            mediay+=clusters[i][j][1]\n",
    "        mediax = mediax/tam_cluster\n",
    "        mediay = mediay/tam_cluster\n",
    "        centroides[i][0] = mediax\n",
    "        centroides[i][1] = mediay\n",
    "        print('dps: ', centroides[i])\n",
    "        \n",
    "def loop_kmeans(centroides, data, k):\n",
    "    clusters = populaClusters(centroides, data, k)\n",
    "    centroidesAntes = centroides\n",
    "    centroides = recalculaCentroides(k, centroides, clusters)\n",
    "    return centroidesAntes, centroides, clusters\n",
    "        \n",
    "def convergiu(centroidesAntes, centroidesDepois, k):\n",
    "    mudou = False\n",
    "    for i in range(0,k):\n",
    "        if(centroidesAntes[i] == centroidesDepois[i])\n",
    "        mudou = True\n",
    "    return mudou\n",
    "        \n",
    "def kmeans(k, data):\n",
    "    # Passo 1: Fornece valores iniciais para os centroides e agrupa\n",
    "    #         o restante dos dados em um centroide\n",
    "    centroides = inicializaCentroides(k, data)\n",
    "    \n",
    "    # Passo 2: Calcula distancia entre cada ponto e os centroides (passo 3 dentro de 'inicializaClusters')\n",
    "    clusters = populaClusters(centroides, data, k)\n",
    "    \n",
    "    # Passo 4: Calcula os novos centroides para cada classe com a média\n",
    "    centroidesAntes = centroides\n",
    "    centroides = recalculaCentroides(k, centroides, clusters)\n",
    "    mudou = False\n",
    "    # Passo 5: Repete o passo 2 em diante até convergir\n",
    "    while(convergiu(centroidesAntes, centroides)==False):\n",
    "        centroidesAntes, centroides, clusters = loop_kmeans(centroides, data, k)\n",
    "        print(convergiu(centroidesAntes, centroides))\n",
    "    \n",
    "    return clusters\n",
    "    \n",
    "    \n",
    "clusters = kmeans(3, dataset)\n"
   ]
  },
  {
   "cell_type": "code",
   "execution_count": null,
   "id": "interstate-restaurant",
   "metadata": {},
   "outputs": [],
   "source": []
  }
 ],
 "metadata": {
  "kernelspec": {
   "display_name": "Python 3",
   "language": "python",
   "name": "python3"
  },
  "language_info": {
   "codemirror_mode": {
    "name": "ipython",
    "version": 3
   },
   "file_extension": ".py",
   "mimetype": "text/x-python",
   "name": "python",
   "nbconvert_exporter": "python",
   "pygments_lexer": "ipython3",
   "version": "3.7.10"
  }
 },
 "nbformat": 4,
 "nbformat_minor": 5
}
