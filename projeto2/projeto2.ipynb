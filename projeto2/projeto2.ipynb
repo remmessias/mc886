{
 "cells": [
  {
   "cell_type": "markdown",
   "metadata": {},
   "source": [
    "# Projeto 2\n",
    "\n",
    "Aluno: André Soranzzo Mota RA: 166404\n",
    "\n",
    "Aluna: Rebecca Moreira Messias RA: 186416"
   ]
  },
  {
   "cell_type": "markdown",
   "metadata": {},
   "source": [
    "# 1. Objetivos\n",
    "\n",
    "Este trabalho visa aplicar métodos de aprendizagem para resolver tarefas de classificação e regressão. Em cada tarefa, deve-se utilizar as métricas e métodos de aprendizagem apropriados."
   ]
  },
  {
   "cell_type": "markdown",
   "metadata": {},
   "source": [
    "## 1.1 Importação e instalação de bibliotecas\n",
    "\n",
    "As bibliotecas utilizadas neste projeto foram: \n",
    "- **numpy**: manipular arrays\n",
    "- **pandas**: manipular os dados"
   ]
  },
  {
   "cell_type": "code",
   "execution_count": 4,
   "metadata": {},
   "outputs": [
    {
     "name": "stdout",
     "output_type": "stream",
     "text": [
      "Requirement already satisfied: numpy in /srv/conda/envs/notebook/lib/python3.7/site-packages (1.20.3)\n",
      "Requirement already satisfied: pandas in /srv/conda/envs/notebook/lib/python3.7/site-packages (1.2.4)\n",
      "Requirement already satisfied: pytz>=2017.3 in /srv/conda/envs/notebook/lib/python3.7/site-packages (from pandas) (2021.1)\n",
      "Requirement already satisfied: python-dateutil>=2.7.3 in /srv/conda/envs/notebook/lib/python3.7/site-packages (from pandas) (2.8.1)\n",
      "Requirement already satisfied: numpy>=1.16.5 in /srv/conda/envs/notebook/lib/python3.7/site-packages (from pandas) (1.20.3)\n",
      "Requirement already satisfied: six>=1.5 in /srv/conda/envs/notebook/lib/python3.7/site-packages (from python-dateutil>=2.7.3->pandas) (1.15.0)\n",
      "Requirement already satisfied: scipy in /srv/conda/envs/notebook/lib/python3.7/site-packages (1.6.3)\n",
      "Requirement already satisfied: numpy<1.23.0,>=1.16.5 in /srv/conda/envs/notebook/lib/python3.7/site-packages (from scipy) (1.20.3)\n",
      "Collecting matplotlib\n",
      "  Downloading matplotlib-3.4.2-cp37-cp37m-manylinux1_x86_64.whl (10.3 MB)\n",
      "\u001b[K     |████████████████████████████████| 10.3 MB 5.7 MB/s eta 0:00:01\n",
      "\u001b[?25hCollecting kiwisolver>=1.0.1\n",
      "  Downloading kiwisolver-1.3.1-cp37-cp37m-manylinux1_x86_64.whl (1.1 MB)\n",
      "\u001b[K     |████████████████████████████████| 1.1 MB 12.7 MB/s eta 0:00:01\n",
      "\u001b[?25hRequirement already satisfied: python-dateutil>=2.7 in /srv/conda/envs/notebook/lib/python3.7/site-packages (from matplotlib) (2.8.1)\n",
      "Collecting pillow>=6.2.0\n",
      "  Downloading Pillow-8.2.0-cp37-cp37m-manylinux1_x86_64.whl (3.0 MB)\n",
      "\u001b[K     |████████████████████████████████| 3.0 MB 13.6 MB/s eta 0:00:01\n",
      "\u001b[?25hRequirement already satisfied: numpy>=1.16 in /srv/conda/envs/notebook/lib/python3.7/site-packages (from matplotlib) (1.20.3)\n",
      "Requirement already satisfied: pyparsing>=2.2.1 in /srv/conda/envs/notebook/lib/python3.7/site-packages (from matplotlib) (2.4.7)\n",
      "Collecting cycler>=0.10\n",
      "  Downloading cycler-0.10.0-py2.py3-none-any.whl (6.5 kB)\n",
      "Requirement already satisfied: six in /srv/conda/envs/notebook/lib/python3.7/site-packages (from cycler>=0.10->matplotlib) (1.15.0)\n",
      "Installing collected packages: pillow, kiwisolver, cycler, matplotlib\n",
      "Successfully installed cycler-0.10.0 kiwisolver-1.3.1 matplotlib-3.4.2 pillow-8.2.0\n"
     ]
    }
   ],
   "source": [
    "!pip install numpy\n",
    "!pip install pandas\n",
    "!pip install scipy\n",
    "!pip install matplotlib\n",
    "\n",
    "import numpy as np\n",
    "import pandas as pd"
   ]
  },
  {
   "cell_type": "markdown",
   "metadata": {},
   "source": [
    "# 2. Parte 1 - Regressão\n",
    "\n",
    "Considere que você é um goleiro em uma partida de futebol robótico na RoboCup Teen Size League. Seu oponente vai chutar\n",
    "uma bola contra você. Seu objetivo é prever a posição da bola para interceptá-la, ou seja, defender seu gol.\n",
    "goleiro, está em x = 0, y = 0. O trabalho consiste na implementação de uma regressão linear e polinomial para prever a trajetória da bola. São dados dois conjuntos de dados: kick1 e kick2. Eles representam duas trajetórias diferentes para a bola. Deve-se aprender o melhor modelo para ajustar os dados."
   ]
  },
  {
   "cell_type": "code",
   "execution_count": null,
   "metadata": {},
   "outputs": [],
   "source": []
  },
  {
   "cell_type": "markdown",
   "metadata": {},
   "source": [
    "## 2.1. Algoritmo de Regressão Linear"
   ]
  },
  {
   "cell_type": "code",
   "execution_count": null,
   "metadata": {},
   "outputs": [],
   "source": []
  },
  {
   "cell_type": "markdown",
   "metadata": {},
   "source": [
    "## 2.2. Algoritmo de Regressão Polinomial"
   ]
  },
  {
   "cell_type": "code",
   "execution_count": 13,
   "metadata": {},
   "outputs": [
    {
     "data": {
      "image/png": "[encoded data removed]",
      "text/plain": [
       "<Figure size 432x288 with 1 Axes>"
      ]
     },
     "metadata": {
      "needs_background": "light"
     },
     "output_type": "display_data"
    }
   ],
   "source": [
    "import numpy as np\n",
    "from scipy import linalg\n",
    "from matplotlib import pyplot as plt\n",
    "\n",
    "def polinomialRegression(X,Y,degree=2):\n",
    "    degree += 1\n",
    "\n",
    "    B = np.zeros((degree,degree))\n",
    "    B[0,0] = len(Y)\n",
    "\n",
    "    for i,x in enumerate(B):\n",
    "        for j,y in enumerate(x[:degree-i]):\n",
    "            B[i,i+j] = np.sum(X**(2*i+j))\n",
    "\n",
    "    B += np.transpose(B)\n",
    "    B[np.eye(degree) == 1] /= 2\n",
    "\n",
    "    C = np.zeros((degree,1))\n",
    "    for i,x in enumerate(C):\n",
    "        C[i] = np.sum(np.multiply(Y,X**i))\n",
    "\n",
    "    A = linalg.solve(B,C)\n",
    "\n",
    "    return A\n",
    "\n",
    "X = np.linspace(0,100,1000)\n",
    "Y = X + 6*np.random.normal(0,1,1000)\n",
    "\n",
    "result = polinomialRegression(X, Y, 2)\n",
    "plt.plot(X,Y, linewidth=3.0)\n",
    "plt.show()"
   ]
  },
  {
   "cell_type": "markdown",
   "metadata": {},
   "source": [
    "# 3. Parte 2 - Classificação\n",
    "\n",
    "Na segunda parte deve-se resolver uma tarefa de classificação usando métodos de aprendizagem supervisionada. Iremos empregar o conjunto de dados de reconhecimento de dígitos manuscritos com base na caneta. É um banco de imagens simples e conhecido para reconhecimento de imagens. Consiste em imagens em escala de cinza de 8 por 8 pixels divididas em 10 classes de dígitos. Uma descrição completa pode ser encontrada no link: archive.ics.uci.edu/ml/datasets/Pen-Based+Recognition+of+Handwritten+Digits.\n"
   ]
  },
  {
   "cell_type": "code",
   "execution_count": null,
   "metadata": {},
   "outputs": [],
   "source": []
  }
 ],
 "metadata": {
  "kernelspec": {
   "display_name": "Python 3",
   "language": "python",
   "name": "python3"
  },
  "language_info": {
   "codemirror_mode": {
    "name": "ipython",
    "version": 3
   },
   "file_extension": ".py",
   "mimetype": "text/x-python",
   "name": "python",
   "nbconvert_exporter": "python",
   "pygments_lexer": "ipython3",
   "version": "3.7.10"
  }
 },
 "nbformat": 4,
 "nbformat_minor": 4
}
